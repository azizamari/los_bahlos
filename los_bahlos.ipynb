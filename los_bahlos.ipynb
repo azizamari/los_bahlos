{
 "cells": [
  {
   "cell_type": "code",
   "execution_count": 4,
   "id": "7c699c9f",
   "metadata": {},
   "outputs": [],
   "source": [
    "!pip install --quiet textwrap3==0.9.2"
   ]
  },
  {
   "cell_type": "code",
   "execution_count": 7,
   "id": "c2a83280",
   "metadata": {},
   "outputs": [],
   "source": [
    "from textwrap3 import wrap"
   ]
  },
  {
   "cell_type": "code",
   "execution_count": 9,
   "id": "6d6c20eb",
   "metadata": {},
   "outputs": [
    {
     "name": "stdout",
     "output_type": "stream",
     "text": [
      "You can easily edit a Symbol and propagate changes in real time across all the instances. In order to edit a Symbol, you must double click the Symbol.\n",
      "(Similar to editing a group on canvas) Any position, size or appearance changes to the elements in a Symbol are propagated to all copies. There is no\n",
      "master copy of the Symbol. You can edit from any copy of the Symbol and preview those changes in real time across your document. While position and\n",
      "appearance changes are linked, you can have unique text and bitmap content in a Symbol. What this means is that, you can override the text and image\n",
      "in a Symbol while keeping it appearance linked to all the other copies. Edit the Symbol and change the text or drop in a new image to override the\n",
      "content. Having the ability to override Symbols is very helpful. However, what happens if need to update all the copies of the Symbol to have the same\n",
      "text and bitmap content? The update all commands helps you specifically do that. Right click on the Symbol and select Update All from the context menu\n",
      "to push the text and bitmap content from that Symbol to all the copies. If you select a specific part of a nested Symbol and hit Update All, it only\n",
      "updates that part of the nested Symbol across all copies. Simplicity and power with the update all command.\n",
      "\n",
      "\n"
     ]
    }
   ],
   "source": [
    "def text_wrap_example(inputText):\n",
    "    for wrp in wrap(inputText, 150):\n",
    "        print (wrp)\n",
    "    print (\"\\n\")\n",
    "txt=\"\"\"You can easily edit a Symbol and propagate changes in real time across all the instances. In order to edit a Symbol, you must double click the Symbol. (Similar to editing a group on canvas) Any position, size or appearance changes to the elements in a Symbol are propagated to all copies. There is no master copy of the Symbol. You can edit from any copy of the Symbol and preview those changes in real time across your document. While position and appearance changes are linked, you can have unique text and bitmap content in a Symbol. What this means is that, you can override the text and image in a Symbol while keeping it appearance linked to all the other copies. Edit the Symbol and change the text or drop in a new image to override the content. Having the ability to override Symbols is very helpful. However, what happens if need to update all the copies of the Symbol to have the same text and bitmap content? The update all commands helps you specifically do that. Right click on the Symbol and select Update All from the context menu to push the text and bitmap content from that Symbol to all the copies. If you select a specific part of a nested Symbol and hit Update All, it only updates that part of the nested Symbol across all copies. Simplicity and power with the update all command.\"\"\"\n",
    "text_wrap_example(txt)"
   ]
  }
 ],
 "metadata": {
  "kernelspec": {
   "display_name": "Python 3 (ipykernel)",
   "language": "python",
   "name": "python3"
  },
  "language_info": {
   "codemirror_mode": {
    "name": "ipython",
    "version": 3
   },
   "file_extension": ".py",
   "mimetype": "text/x-python",
   "name": "python",
   "nbconvert_exporter": "python",
   "pygments_lexer": "ipython3",
   "version": "3.9.12"
  }
 },
 "nbformat": 4,
 "nbformat_minor": 5
}
